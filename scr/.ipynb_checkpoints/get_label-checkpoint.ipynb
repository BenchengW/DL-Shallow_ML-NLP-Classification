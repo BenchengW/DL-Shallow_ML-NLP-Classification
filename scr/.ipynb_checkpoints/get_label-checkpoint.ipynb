{
 "cells": [
  {
   "cell_type": "code",
   "execution_count": 1,
   "metadata": {},
   "outputs": [],
   "source": [
    "import pandas as pd\n",
    "import numpy as np\n",
    "\n",
    "from IPython.core.interactiveshell import InteractiveShell\n",
    "InteractiveShell.ast_node_interactivity = \"all\""
   ]
  },
  {
   "cell_type": "code",
   "execution_count": 4,
   "metadata": {},
   "outputs": [
    {
     "name": "stdout",
     "output_type": "stream",
     "text": [
      "<class 'pandas.core.frame.DataFrame'>\n",
      "RangeIndex: 6802 entries, 0 to 6801\n",
      "Data columns (total 8 columns):\n",
      "loan_id        6802 non-null int64\n",
      "status         6802 non-null object\n",
      "sector         6802 non-null object\n",
      "country        6802 non-null object\n",
      "gender         6802 non-null object\n",
      "loan_amount    6802 non-null int64\n",
      "nonpayment     6802 non-null object\n",
      "en_clean       6802 non-null object\n",
      "dtypes: int64(2), object(6)\n",
      "memory usage: 425.2+ KB\n"
     ]
    }
   ],
   "source": [
    "kiva_df = pd.read_csv(\"../Data/kiva_cleaned.csv\")\n",
    "kiva_df = kiva_df.dropna()\n",
    "kiva_df = kiva_df.reset_index(drop=True)\n",
    "kiva_df.info()"
   ]
  },
  {
   "cell_type": "code",
   "execution_count": 5,
   "metadata": {},
   "outputs": [
    {
     "name": "stdout",
     "output_type": "stream",
     "text": [
      "<class 'pandas.core.frame.DataFrame'>\n",
      "RangeIndex: 6138 entries, 0 to 6137\n",
      "Data columns (total 3 columns):\n",
      "loan_id      6138 non-null int64\n",
      "en_clean     6138 non-null object\n",
      "defaulted    6138 non-null int64\n",
      "dtypes: int64(2), object(1)\n",
      "memory usage: 144.0+ KB\n"
     ]
    }
   ],
   "source": [
    "kiva_train = pd.read_csv(\"../Data/kiva_train.csv\")\n",
    "kiva_train = kiva_train.dropna()\n",
    "kiva_train = kiva_train.reset_index(drop=True)\n",
    "kiva_train.info()"
   ]
  },
  {
   "cell_type": "code",
   "execution_count": 6,
   "metadata": {},
   "outputs": [
    {
     "name": "stdout",
     "output_type": "stream",
     "text": [
      "<class 'pandas.core.frame.DataFrame'>\n",
      "RangeIndex: 664 entries, 0 to 663\n",
      "Data columns (total 2 columns):\n",
      "loan_id     664 non-null int64\n",
      "en_clean    664 non-null object\n",
      "dtypes: int64(1), object(1)\n",
      "memory usage: 10.5+ KB\n"
     ]
    }
   ],
   "source": [
    "kiva_test = pd.read_csv(\"../Data/kiva_test.csv\")\n",
    "kiva_test = kiva_test.dropna()\n",
    "kiva_test = kiva_test.reset_index(drop=True)\n",
    "kiva_test.info()"
   ]
  },
  {
   "cell_type": "code",
   "execution_count": 7,
   "metadata": {},
   "outputs": [],
   "source": [
    "kiva_test_with_label = kiva_test.merge(kiva_df, how='left', on='loan_id')"
   ]
  },
  {
   "cell_type": "code",
   "execution_count": 1,
   "metadata": {},
   "outputs": [
    {
     "ename": "NameError",
     "evalue": "name 'kiva_test_with_label' is not defined",
     "output_type": "error",
     "traceback": [
      "\u001b[1;31m---------------------------------------------------------------------------\u001b[0m",
      "\u001b[1;31mNameError\u001b[0m                                 Traceback (most recent call last)",
      "\u001b[1;32m<ipython-input-1-4481c96d8e6f>\u001b[0m in \u001b[0;36m<module>\u001b[1;34m\u001b[0m\n\u001b[1;32m----> 1\u001b[1;33m \u001b[0mkiva_test_with_label\u001b[0m\u001b[1;33m.\u001b[0m\u001b[0mto_csv\u001b[0m\u001b[1;33m(\u001b[0m\u001b[1;34m\"../Data/kiva_test_with_label.csv\"\u001b[0m\u001b[1;33m)\u001b[0m\u001b[1;33m\u001b[0m\u001b[0m\n\u001b[0m",
      "\u001b[1;31mNameError\u001b[0m: name 'kiva_test_with_label' is not defined"
     ]
    }
   ],
   "source": [
    "kiva_test_with_label.to_csv(\"../Data/kiva_test_with_label.csv\")"
   ]
  },
  {
   "cell_type": "code",
   "execution_count": null,
   "metadata": {},
   "outputs": [],
   "source": []
  }
 ],
 "metadata": {
  "kernelspec": {
   "display_name": "Python 3",
   "language": "python",
   "name": "python3"
  },
  "language_info": {
   "codemirror_mode": {
    "name": "ipython",
    "version": 3
   },
   "file_extension": ".py",
   "mimetype": "text/x-python",
   "name": "python",
   "nbconvert_exporter": "python",
   "pygments_lexer": "ipython3",
   "version": "3.5.4"
  }
 },
 "nbformat": 4,
 "nbformat_minor": 2
}
