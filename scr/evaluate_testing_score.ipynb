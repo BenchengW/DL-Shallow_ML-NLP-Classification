{
 "cells": [
  {
   "cell_type": "code",
   "execution_count": null,
   "metadata": {},
   "outputs": [],
   "source": [
    "def evaluate_testing_score(model_pipeline):\n",
    "    df_test = pd.read_csv(\"https://drive.google.com/uc?export=download&id=1EVWfyqQOd_W2uTKrr4JTD2iFrEZHoOHT\")\n",
    "    # Use our pipeline to make predictions; then output predictions to a CSV file.\n",
    "    pred_test = model_pipeline.predict(df_test['en_clean'])\n",
    "    my_submission = pd.DataFrame({'id': df_test['loan_id'], 'predicted': pred_test})\n",
    "\n",
    "    kiva_test = pd.read_csv(\"/content/Kiva_Loan_NLP/data/kiva_test_with_label.csv\")\n",
    "    kiva_test['defaulted'] = kiva_test['status'].apply(lambda x: 1 if x == 'defaulted' else 0)\n",
    "    kiva_test_label = kiva_test[[\"loan_id\",\"defaulted\"]]\n",
    "\n",
    "    class_names = [str(x) for x in model_pipeline.classes_]\n",
    "    print(classification_report(y_true = kiva_test_label.defaulted, y_pred = my_submission.predicted, target_names=class_names))"
   ]
  }
 ],
 "metadata": {
  "kernelspec": {
   "display_name": "Python 3",
   "language": "python",
   "name": "python3"
  },
  "language_info": {
   "codemirror_mode": {
    "name": "ipython",
    "version": 3
   },
   "file_extension": ".py",
   "mimetype": "text/x-python",
   "name": "python",
   "nbconvert_exporter": "python",
   "pygments_lexer": "ipython3",
   "version": "3.5.4"
  }
 },
 "nbformat": 4,
 "nbformat_minor": 2
}
