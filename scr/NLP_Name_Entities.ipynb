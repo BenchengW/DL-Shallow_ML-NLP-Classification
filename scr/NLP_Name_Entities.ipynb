{
 "cells": [
  {
   "cell_type": "code",
   "execution_count": 1,
   "metadata": {},
   "outputs": [
    {
     "ename": "ImportError",
     "evalue": "No module named 'spacy'",
     "output_type": "error",
     "traceback": [
      "\u001b[1;31m---------------------------------------------------------------------------\u001b[0m",
      "\u001b[1;31mImportError\u001b[0m                               Traceback (most recent call last)",
      "\u001b[1;32m<ipython-input-1-9afd12424967>\u001b[0m in \u001b[0;36m<module>\u001b[1;34m\u001b[0m\n\u001b[1;32m----> 1\u001b[1;33m \u001b[1;32mfrom\u001b[0m \u001b[0mspacy\u001b[0m \u001b[1;32mimport\u001b[0m \u001b[0mdisplacy\u001b[0m\u001b[1;33m\u001b[0m\u001b[0m\n\u001b[0m\u001b[0;32m      2\u001b[0m \u001b[1;33m\u001b[0m\u001b[0m\n\u001b[0;32m      3\u001b[0m nytimes= nlp(\"\"\"New York City on Tuesday declared a public health emergency and ordered mandatory measles vaccinations amid an outbreak, becoming the latest national flash point over refusals to inoculate against dangerous diseases.\n\u001b[0;32m      4\u001b[0m \u001b[1;33m\u001b[0m\u001b[0m\n\u001b[0;32m      5\u001b[0m \u001b[0mAt\u001b[0m \u001b[0mleast\u001b[0m \u001b[1;36m285\u001b[0m \u001b[0mpeople\u001b[0m \u001b[0mhave\u001b[0m \u001b[0mcontracted\u001b[0m \u001b[0mmeasles\u001b[0m \u001b[1;32min\u001b[0m \u001b[0mthe\u001b[0m \u001b[0mcity\u001b[0m \u001b[0msince\u001b[0m \u001b[0mSeptember\u001b[0m\u001b[1;33m,\u001b[0m \u001b[0mmostly\u001b[0m \u001b[1;32min\u001b[0m \u001b[0mBrooklyn\u001b[0m\u001b[0;31m’\u001b[0m\u001b[0ms\u001b[0m \u001b[0mWilliamsburg\u001b[0m \u001b[0mneighborhood\u001b[0m\u001b[1;33m.\u001b[0m \u001b[0mThe\u001b[0m \u001b[0morder\u001b[0m \u001b[0mcovers\u001b[0m \u001b[0mfour\u001b[0m \u001b[0mZip\u001b[0m \u001b[0mcodes\u001b[0m \u001b[0mthere\u001b[0m\u001b[1;33m,\u001b[0m \u001b[0mMayor\u001b[0m \u001b[0mBill\u001b[0m \u001b[0mde\u001b[0m \u001b[0mBlasio\u001b[0m \u001b[1;33m(\u001b[0m\u001b[0mD\u001b[0m\u001b[1;33m)\u001b[0m \u001b[0msaid\u001b[0m \u001b[0mTuesday\u001b[0m\u001b[1;33m.\u001b[0m\u001b[1;33m\u001b[0m\u001b[0m\n",
      "\u001b[1;31mImportError\u001b[0m: No module named 'spacy'"
     ]
    }
   ],
   "source": [
    "from spacy import displacy\n",
    "\n",
    "nytimes= nlp(\"\"\"New York City on Tuesday declared a public health emergency and ordered mandatory measles vaccinations amid an outbreak, becoming the latest national flash point over refusals to inoculate against dangerous diseases.\n",
    "\n",
    "At least 285 people have contracted measles in the city since September, mostly in Brooklyn’s Williamsburg neighborhood. The order covers four Zip codes there, Mayor Bill de Blasio (D) said Tuesday.\n",
    "\n",
    "The mandate orders all unvaccinated people in the area, including a concentration of Orthodox Jews, to receive inoculations, including for children as young as 6 months old. Anyone who resists could be fined up to $1,000.\"\"\")\n",
    "\n",
    "entities=[(i, i.label_, i.label) for i in nytimes.ents]\n",
    "entities"
   ]
  },
  {
   "cell_type": "code",
   "execution_count": null,
   "metadata": {},
   "outputs": [],
   "source": [
    "displacy.render(nytimes, style=\"ent\", jupyter=True)"
   ]
  },
  {
   "cell_type": "code",
   "execution_count": null,
   "metadata": {},
   "outputs": [],
   "source": []
  },
  {
   "cell_type": "code",
   "execution_count": null,
   "metadata": {},
   "outputs": [],
   "source": [
    "def check_ents(doc, ents):\n",
    "    doc_check = nlp(doc)\n",
    "    count = 0\n",
    "    for i in doc_check.ents:\n",
    "        if i.label_ == ents :\n",
    "            count+=1\n",
    "    return count\n",
    "\n",
    "def check_ents_all(corpus):\n",
    "    res = np.array([check_ents(doc, \"MONEY\") for doc in corpus]).reshape(-1, 1)\n",
    "    res = np.c_[res, np.array([check_ents(doc, \"CARDINAL\") for doc in corpus]).reshape(-1, 1)]\n",
    "    return res"
   ]
  },
  {
   "cell_type": "code",
   "execution_count": null,
   "metadata": {},
   "outputs": [],
   "source": [
    "A[['len', 'syll', 'lex', 'sent', 'flesch', 'kincaid', 'gunning']] = pd.DataFrame(get_lexical(kiva_train['en_clean'][1:20]))\n",
    "A"
   ]
  },
  {
   "cell_type": "code",
   "execution_count": null,
   "metadata": {},
   "outputs": [],
   "source": []
  },
  {
   "cell_type": "code",
   "execution_count": null,
   "metadata": {},
   "outputs": [],
   "source": []
  },
  {
   "cell_type": "code",
   "execution_count": null,
   "metadata": {},
   "outputs": [],
   "source": []
  }
 ],
 "metadata": {
  "kernelspec": {
   "display_name": "Python 3",
   "language": "python",
   "name": "python3"
  },
  "language_info": {
   "codemirror_mode": {
    "name": "ipython",
    "version": 3
   },
   "file_extension": ".py",
   "mimetype": "text/x-python",
   "name": "python",
   "nbconvert_exporter": "python",
   "pygments_lexer": "ipython3",
   "version": "3.5.4"
  }
 },
 "nbformat": 4,
 "nbformat_minor": 2
}
